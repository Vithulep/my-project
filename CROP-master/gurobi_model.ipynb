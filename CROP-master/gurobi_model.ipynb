{
 "cells": [
  {
   "cell_type": "code",
   "execution_count": null,
   "id": "eb57f5c1",
   "metadata": {},
   "outputs": [],
   "source": [
    "import copy\n",
    "import json\n",
    "import os.path as osp\n",
    "import random\n",
    "import re\n",
    "from csv import DictReader\n",
    "from district import District\n",
    "from crop import Crop\n",
    "from allocation import Allocation\n",
    "import os\n",
    "import argparse\n",
    "import readfile\n",
    "import numpy as np\n",
    "import time\n",
    "from geopy.distance import great_circle\n",
    "from gurobipy import *"
   ]
  },
  {
   "cell_type": "code",
   "execution_count": 58,
   "id": "195efa1f",
   "metadata": {},
   "outputs": [],
   "source": [
    "model = Model(name='CROP')\n",
    "#3 dist, 2 crops from test 1\n",
    "no_dist = 3\n",
    "no_crop = 2\n",
    "allocation = model.addVars(no_dist,no_crop,vtype=GRB.CONTINUOUS,lb = 0, name = 'allocation')  #For allocation\n",
    "x = model.addVars(no_dist,no_crop*no_dist,vtype=GRB.CONTINUOUS,lb = 0, name = 'x')  #For transportation "
   ]
  },
  {
   "cell_type": "code",
   "execution_count": 59,
   "id": "ce551471",
   "metadata": {},
   "outputs": [
    {
     "name": "stdout",
     "output_type": "stream",
     "text": [
      "[10 10  0]\n"
     ]
    }
   ],
   "source": [
    "new_alloc = [[5,5],[5,5],[0,0]]\n",
    "max_alloc = np.sum(new_alloc,axis=1)\n",
    "print(max_alloc)"
   ]
  },
  {
   "cell_type": "code",
   "execution_count": 60,
   "id": "17bc49ca",
   "metadata": {},
   "outputs": [],
   "source": [
    "# for i in range(len(max_alloc)):\n",
    "#     model.addConstr(quicksum(allocation[i,j] for j in range(no_crop))<=max_alloc[i])"
   ]
  },
  {
   "cell_type": "code",
   "execution_count": 61,
   "id": "94ef2b74",
   "metadata": {
    "scrolled": true
   },
   "outputs": [
    {
     "name": "stdout",
     "output_type": "stream",
     "text": [
      "Gurobi Optimizer version 10.0.1 build v10.0.1rc0 (mac64[arm])\n",
      "\n",
      "CPU model: Apple M2\n",
      "Thread count: 8 physical cores, 8 logical processors, using up to 8 threads\n",
      "\n",
      "Optimize a model with 15 rows, 24 columns and 62 nonzeros\n",
      "Model fingerprint: 0xd3fc04a1\n",
      "Coefficient statistics:\n",
      "  Matrix range     [1e+00, 2e+00]\n",
      "  Objective range  [1e+03, 3e+04]\n",
      "  Bounds range     [0e+00, 0e+00]\n",
      "  RHS range        [7e-01, 2e+01]\n",
      "Presolve removed 7 rows and 8 columns\n",
      "Presolve time: 0.00s\n",
      "Presolved: 8 rows, 22 columns, 38 nonzeros\n",
      "\n",
      "Iteration    Objective       Primal Inf.    Dual Inf.      Time\n",
      "       0    3.1500000e+05   7.450000e+00   0.000000e+00      0s\n",
      "       5    1.9979367e+05   0.000000e+00   0.000000e+00      0s\n",
      "\n",
      "Solved in 5 iterations and 0.00 seconds (0.00 work units)\n",
      "Optimal objective  1.997936715e+05\n"
     ]
    }
   ],
   "source": [
    "cost = [[8000,10000],[5000,10000],[8000,10000]] #Cost per crop per ton\n",
    "cost = np.array(cost)\n",
    "crop_yield = [[1,2.5],[1,2],[0,0]]\n",
    "crop_yield  = np.array(crop_yield)\n",
    "price = [[1500,1100],[1500,1200],[1000,1000]]\n",
    "price = np.array(price)\n",
    "LD = [[4,10],[4,5],[2,0.7]]\n",
    "LD = np.array(LD)\n",
    "UD = [[10,15],[7,8],[4,1]]\n",
    "UD = np.array(UD)\n",
    "TC = [100,200]\n",
    "TC = np.array(TC)\n",
    "model.addConstrs((allocation[i,j]*crop_yield[i,j]-sum(x[i,j*no_dist+k] for k in range(no_dist))+sum(x[k,j*no_dist+i] for k in range(no_dist)))>=LD[i,j] for i in range(no_dist) for j in range(no_crop))\n",
    "model.addConstrs((allocation[i,j]*crop_yield[i,j]-sum(x[i,j*no_dist+k] for k in range(no_dist))+sum(x[k,j*no_dist+i] for k in range(no_dist)))<=UD[i,j] for i in range(no_dist) for j in range(no_crop))\n",
    "model.addConstrs((sum(allocation[i,j] for j in range(no_crop))<=max_alloc[i]) for i in range(no_dist))\n",
    "distances = [[10^7,111.19508372,157.24960341],[111.19508372,10^7,111.19508372],[157.24960341,111.19508372,10^7]]\n",
    "distances = np.array(distances)\n",
    "#----------------------Method1-------------------\n",
    "COP = quicksum(allocation[i,j]*cost[i,j] for i in range(no_dist) for j in range(no_crop))\n",
    "Revenue = quicksum((allocation[i,j]*crop_yield[i,j]-sum(x[i,j*no_dist+k] for k in range(no_dist))+sum(x[k,j*no_dist+i] for k in range(no_dist)))*10*price[i,j] for i in range(no_dist) for j in range(no_crop))\n",
    "Transport_cost = quicksum((TC[j]*distances[i,k]*x[i,j*no_dist+k]) for k in range(no_dist) for i in range(no_dist) for j in range(no_crop))\n",
    "obj_fn =  Revenue - COP -  Transport_cost\n",
    "#----------------------Method2--------------------\n",
    "# obj_fn = quicksum((allocation[i,j]*crop_yield[i,j]-sum(x[i,j*no_dist+k] for k in range(no_dist))+sum(x[k,j*no_dist+i] for k in range(no_dist)))*10*price[i,j]-allocation[i,j]*cost[i,j]-sum(TC[j]*distances[i,k]*x[i,j*no_dist+k] for k in range(no_dist)) for i in range(no_dist) for j in range(no_crop))\n",
    "model.setObjective(obj_fn,GRB.MAXIMIZE)\n",
    "model.optimize()"
   ]
  },
  {
   "cell_type": "code",
   "execution_count": 62,
   "id": "7f9f4733",
   "metadata": {},
   "outputs": [
    {
     "name": "stdout",
     "output_type": "stream",
     "text": [
      "Allocation: \n",
      " [[4. 6.]\n",
      " [6. 4.]\n",
      " [0. 0.]]\n",
      "Transported quantity: \n",
      " [[0.  0.  0.  0.  0.  0. ]\n",
      " [0.  0.  2.  0.  0.  0.7]\n",
      " [0.  0.  0.  0.  0.  0. ]]\n"
     ]
    }
   ],
   "source": [
    "values = model.getAttr(\"X\", model.getVars())\n",
    "values = np.array(values)\n",
    "alloc = values[0:no_dist*no_crop].reshape((no_dist,no_crop))\n",
    "transport_qty = values[no_dist*no_crop:].reshape((no_dist,no_dist*no_crop))\n",
    "print(f'Allocation: \\n {alloc}')\n",
    "print(f'Transported quantity: \\n {transport_qty}')"
   ]
  },
  {
   "cell_type": "code",
   "execution_count": 63,
   "id": "dd67ba58",
   "metadata": {},
   "outputs": [
    {
     "name": "stdout",
     "output_type": "stream",
     "text": [
      "[[ 4.  15. ]\n",
      " [ 4.   7.3]\n",
      " [ 2.   0.7]]\n"
     ]
    }
   ],
   "source": [
    "stock = np.zeros(alloc.shape)\n",
    "for i in range(no_dist):\n",
    "    for j in range(no_crop):\n",
    "        stock[i,j] = alloc[i,j]*crop_yield[i,j]-sum(transport_qty[i,j*no_dist+k] for k in range(no_dist))+sum(transport_qty[k,j*no_dist+i] for k in range(no_dist))\n",
    "print(stock)\n",
    "        # allocation[i,j]*crop_yield[i,j]-sum(x[i,j*no_dist+k] for k in range(no_dist))+sum(x[k,j*no_dist+i] for k in range(no_dist)))>=LD[i,j] for i in range(no_dist) for j in range(no_crop))"
   ]
  },
  {
   "cell_type": "code",
   "execution_count": 64,
   "id": "bddbd26b",
   "metadata": {},
   "outputs": [
    {
     "name": "stdout",
     "output_type": "stream",
     "text": [
      "162000.0\n",
      "399600.0\n",
      "37806.3284648\n",
      "199793.6715352\n"
     ]
    }
   ],
   "source": [
    "COP = sum(alloc[i,j]*cost[i,j] for i in range(no_dist) for j in range(no_crop))\n",
    "print(COP)\n",
    "Revenue = sum((alloc[i,j]*crop_yield[i,j]-sum(transport_qty[i,j*no_dist+k] for k in range(no_dist))+sum(transport_qty[k,j*no_dist+i] for k in range(no_dist)))*10*price[i,j] for i in range(no_dist) for j in range(no_crop))\n",
    "print(Revenue)\n",
    "Transport_cost = sum((TC[j]*distances[i,k]*transport_qty[i,j*no_dist+k]) for k in range(no_dist) for i in range(no_dist) for j in range(no_crop))\n",
    "print(Transport_cost)\n",
    "print(Revenue - COP -  Transport_cost)"
   ]
  },
  {
   "cell_type": "code",
   "execution_count": 65,
   "id": "ad3df96b",
   "metadata": {
    "scrolled": true
   },
   "outputs": [
    {
     "name": "stdout",
     "output_type": "stream",
     "text": [
      "allocation[0,0] = 4.0\n",
      "allocation[0,1] = 6.0\n",
      "allocation[1,0] = 6.0\n",
      "allocation[1,1] = 4.0\n",
      "allocation[2,0] = 0.0\n",
      "allocation[2,1] = 0.0\n",
      "x[0,0] = 0.0\n",
      "x[0,1] = 0.0\n",
      "x[0,2] = 0.0\n",
      "x[0,3] = 0.0\n",
      "x[0,4] = 0.0\n",
      "x[0,5] = 0.0\n",
      "x[1,0] = 0.0\n",
      "x[1,1] = 0.0\n",
      "x[1,2] = 2.0\n",
      "x[1,3] = 0.0\n",
      "x[1,4] = 0.0\n",
      "x[1,5] = 0.7\n",
      "x[2,0] = 0.0\n",
      "x[2,1] = 0.0\n",
      "x[2,2] = 0.0\n",
      "x[2,3] = 0.0\n",
      "x[2,4] = 0.0\n",
      "x[2,5] = 0.0\n"
     ]
    }
   ],
   "source": [
    "# for v in model.getVars():\n",
    "#     print(f\"{v.VarName} = {v.X}\")"
   ]
  },
  {
   "cell_type": "code",
   "execution_count": 68,
   "id": "d0a7eb80",
   "metadata": {},
   "outputs": [
    {
     "name": "stdout",
     "output_type": "stream",
     "text": [
      "[[ 2  4  6]\n",
      " [ 8 10 12]]\n"
     ]
    }
   ],
   "source": [
    "u = [[1,2,3],[4,5,6]]\n",
    "v = [[1,2,3],[4,5,6]]\n",
    "w= np.add(u,v)\n",
    "print(w)"
   ]
  },
  {
   "cell_type": "code",
   "execution_count": null,
   "id": "9e38f06c",
   "metadata": {},
   "outputs": [],
   "source": []
  }
 ],
 "metadata": {
  "kernelspec": {
   "display_name": "Python 3 (ipykernel)",
   "language": "python",
   "name": "python3"
  },
  "language_info": {
   "codemirror_mode": {
    "name": "ipython",
    "version": 3
   },
   "file_extension": ".py",
   "mimetype": "text/x-python",
   "name": "python",
   "nbconvert_exporter": "python",
   "pygments_lexer": "ipython3",
   "version": "3.9.12"
  }
 },
 "nbformat": 4,
 "nbformat_minor": 5
}
