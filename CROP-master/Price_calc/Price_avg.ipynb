{
 "cells": [
  {
   "cell_type": "code",
   "execution_count": 124,
   "id": "bd062252",
   "metadata": {},
   "outputs": [],
   "source": [
    "import pandas as pd\n",
    "import numpy as np"
   ]
  },
  {
   "cell_type": "code",
   "execution_count": 125,
   "id": "394139de",
   "metadata": {},
   "outputs": [],
   "source": [
    "# crop = 'Arhar'\n",
    "# price_file = 'price_data/'+crop+'/Karnataka/Price_Annual/Price_'+crop+'_2018_16.csv'\n",
    "# qty_file = 'price_data/'+crop+'/Karnataka/Arrival_Annual/quantity_'+crop+'_2018_16.csv'\n",
    "# price = pd.read_csv(price_file,skiprows=1)\n",
    "# price.head()\n",
    "# print(price.dtypes)"
   ]
  },
  {
   "cell_type": "code",
   "execution_count": 126,
   "id": "6f28b227",
   "metadata": {},
   "outputs": [],
   "source": [
    "# print(price.columns)"
   ]
  },
  {
   "cell_type": "code",
   "execution_count": 127,
   "id": "448a5609",
   "metadata": {
    "scrolled": true
   },
   "outputs": [],
   "source": [
    "# price['Price Date'] = pd.to_datetime(price['Price Date'])"
   ]
  },
  {
   "cell_type": "code",
   "execution_count": 128,
   "id": "6a29f856",
   "metadata": {},
   "outputs": [],
   "source": [
    "# price.rename(columns = {'District Name':'District', 'Market Name':'Market',\n",
    "#                               'Price Date':'Date'}, inplace = True)"
   ]
  },
  {
   "cell_type": "code",
   "execution_count": 129,
   "id": "bf768f0c",
   "metadata": {
    "scrolled": true
   },
   "outputs": [],
   "source": [
    "# price.head()"
   ]
  },
  {
   "cell_type": "code",
   "execution_count": 130,
   "id": "85b1c2b0",
   "metadata": {},
   "outputs": [],
   "source": [
    "# price.District.unique()"
   ]
  },
  {
   "cell_type": "code",
   "execution_count": 131,
   "id": "0a3ab1db",
   "metadata": {},
   "outputs": [],
   "source": [
    "# print(price.dtypes)"
   ]
  },
  {
   "cell_type": "code",
   "execution_count": 132,
   "id": "c282c7df",
   "metadata": {},
   "outputs": [],
   "source": [
    "# arrival = pd.read_csv(qty_file,skiprows=0)\n",
    "# arrival['Date'] = pd.to_datetime(arrival['Date'])\n",
    "# print(arrival.dtypes)"
   ]
  },
  {
   "cell_type": "code",
   "execution_count": 133,
   "id": "5be87143",
   "metadata": {},
   "outputs": [],
   "source": [
    "# print(len(price.index))\n",
    "# print(len(arrival.index))"
   ]
  },
  {
   "cell_type": "code",
   "execution_count": 134,
   "id": "96163d51",
   "metadata": {},
   "outputs": [
    {
     "data": {
      "text/plain": [
       "1011"
      ]
     },
     "execution_count": 134,
     "metadata": {},
     "output_type": "execute_result"
    }
   ],
   "source": [
    "# price.drop_duplicates().shape[0]"
   ]
  },
  {
   "cell_type": "code",
   "execution_count": 135,
   "id": "39e2cf67",
   "metadata": {},
   "outputs": [
    {
     "data": {
      "text/plain": [
       "959"
      ]
     },
     "execution_count": 135,
     "metadata": {},
     "output_type": "execute_result"
    }
   ],
   "source": [
    "# arrival.drop_duplicates().shape[0]"
   ]
  },
  {
   "cell_type": "code",
   "execution_count": 136,
   "id": "59820f9c",
   "metadata": {},
   "outputs": [],
   "source": [
    "# merged = pd.merge(price,arrival,on=['District','Market','Date'])"
   ]
  },
  {
   "cell_type": "code",
   "execution_count": 137,
   "id": "42eba40e",
   "metadata": {},
   "outputs": [],
   "source": [
    "# print(merged.head())"
   ]
  },
  {
   "cell_type": "code",
   "execution_count": 138,
   "id": "787fd383",
   "metadata": {},
   "outputs": [],
   "source": [
    "# print(len(merged.index))"
   ]
  },
  {
   "cell_type": "code",
   "execution_count": 139,
   "id": "0aa6711c",
   "metadata": {},
   "outputs": [],
   "source": [
    "# merged.District.unique()"
   ]
  },
  {
   "cell_type": "code",
   "execution_count": 140,
   "id": "2581e105",
   "metadata": {},
   "outputs": [],
   "source": [
    "# dist_grp = merged.groupby('District')"
   ]
  },
  {
   "cell_type": "code",
   "execution_count": 141,
   "id": "839101e6",
   "metadata": {},
   "outputs": [],
   "source": [
    "# dist_grp.get_group('Bangalore')"
   ]
  },
  {
   "cell_type": "code",
   "execution_count": 142,
   "id": "0d7897fb",
   "metadata": {},
   "outputs": [],
   "source": [
    "# wm = lambda x: np.average(x, weights=merged.loc[x.index, \"Arrivals\"]) #check with merged"
   ]
  },
  {
   "cell_type": "code",
   "execution_count": 143,
   "id": "bac7f9c6",
   "metadata": {},
   "outputs": [],
   "source": [
    "# result = merged.groupby(['District']).agg(arrival_weighted_price=(\"Modal Price (Rs./Quintal)\", wm))"
   ]
  },
  {
   "cell_type": "code",
   "execution_count": 144,
   "id": "a630b02f",
   "metadata": {},
   "outputs": [],
   "source": [
    "# type(result)"
   ]
  },
  {
   "cell_type": "code",
   "execution_count": 145,
   "id": "03127e32",
   "metadata": {},
   "outputs": [],
   "source": [
    "# s = 'final_'+crop+'price.csv'\n",
    "# result.to_csv(s)"
   ]
  },
  {
   "cell_type": "code",
   "execution_count": 147,
   "id": "3f2a0660",
   "metadata": {},
   "outputs": [],
   "source": [
    "crops = ['Arhar','Bajra','Cotton','GreenGram','Groundnut','Jowar','Maize','Onion','Ragi','Rice','Soyabean','Wheat']\n",
    "wm = lambda x: np.average(x, weights=merged.loc[x.index, \"Arrivals\"])\n",
    "for crop in crops:\n",
    "    price_file = 'price_data/'+crop+'/Karnataka/Price_Annual/Price_'+crop+'_2018_16.csv'\n",
    "    qty_file = 'price_data/'+crop+'/Karnataka/Arrival_Annual/quantity_'+crop+'_2018_16.csv'\n",
    "    price = pd.read_csv(price_file,skiprows=1)\n",
    "    price['Price Date'] = pd.to_datetime(price['Price Date'])\n",
    "    price.rename(columns = {'District Name':'District', 'Market Name':'Market','Price Date':'Date'}, inplace = True)\n",
    "    arrival = pd.read_csv(qty_file,skiprows=0)\n",
    "    arrival['Date'] = pd.to_datetime(arrival['Date'])\n",
    "    merged = pd.merge(price,arrival,on=['District','Market','Date'])\n",
    "    dist_grp = merged.groupby('District')\n",
    "    result = merged.groupby(['District']).agg(arrival_weighted_price=(\"Modal Price (Rs./Quintal)\", wm))\n",
    "    s = 'final_'+crop+'price.csv'\n",
    "    result.to_csv(s)"
   ]
  },
  {
   "cell_type": "code",
   "execution_count": null,
   "id": "2e2c0f36",
   "metadata": {},
   "outputs": [],
   "source": []
  }
 ],
 "metadata": {
  "kernelspec": {
   "display_name": "Python 3 (ipykernel)",
   "language": "python",
   "name": "python3"
  },
  "language_info": {
   "codemirror_mode": {
    "name": "ipython",
    "version": 3
   },
   "file_extension": ".py",
   "mimetype": "text/x-python",
   "name": "python",
   "nbconvert_exporter": "python",
   "pygments_lexer": "ipython3",
   "version": "3.9.12"
  }
 },
 "nbformat": 4,
 "nbformat_minor": 5
}
